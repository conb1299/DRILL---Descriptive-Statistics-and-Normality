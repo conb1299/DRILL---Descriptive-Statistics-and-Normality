{
 "cells": [
  {
   "cell_type": "code",
   "execution_count": 3,
   "metadata": {},
   "outputs": [],
   "source": [
    "import matplotlib.pyplot as plt\n",
    "import pandas as pd\n",
    "import numpy as np\n",
    "import math"
   ]
  },
  {
   "cell_type": "code",
   "execution_count": 88,
   "metadata": {},
   "outputs": [
    {
     "data": {
      "image/png": "[encoded data removed]",
      "text/plain": [
       "<matplotlib.figure.Figure at 0x1ea2844be0>"
      ]
     },
     "metadata": {},
     "output_type": "display_data"
    }
   ],
   "source": [
    "poissonvar = np.random.poisson(5, 100)\n",
    "plt.hist(poissonvar)\n",
    "plt.axvline(poissonvar.mean(), color='b', linestyle='solid', linewidth=2)\n",
    "plt.axvline(poissonvar.mean() + poissonvar.std(), color='b', linestyle='dashed', linewidth=2)\n",
    "plt.axvline(poissonvar.mean()-poissonvar.std(), color='b', linestyle='dashed', linewidth=2) \n",
    "plt.show()"
   ]
  },
  {
   "cell_type": "code",
   "execution_count": 89,
   "metadata": {},
   "outputs": [
    {
     "name": "stdout",
     "output_type": "stream",
     "text": [
      "4.97\n",
      "2.22015765206\n"
     ]
    }
   ],
   "source": [
    "print (np.mean(poissonvar))\n",
    "print (np.std(poissonvar))\n",
    "#The mean is useful in this distribution because it is equal to lamda over infinite samples. Standard Deviation is also\n",
    "#useful as it will be the root of the mean."
   ]
  },
  {
   "cell_type": "code",
   "execution_count": 90,
   "metadata": {},
   "outputs": [
    {
     "data": {
      "image/png": "[encoded data removed]",
      "text/plain": [
       "<matplotlib.figure.Figure at 0x1ea278b9b0>"
      ]
     },
     "metadata": {},
     "output_type": "display_data"
    }
   ],
   "source": [
    "rayleighvar= np.random.rayleigh(5,100)\n",
    "plt.hist(rayleighvar)\n",
    "plt.axvline(rayleighvar.mean(), color='b', linestyle='solid', linewidth=2)\n",
    "plt.axvline(rayleighvar.mean() + rayleighvar.std(), color='b', linestyle='dashed', linewidth=2)\n",
    "plt.axvline(rayleighvar.mean()-rayleighvar.std(), color='b', linestyle='dashed', linewidth=2) \n",
    "plt.show()"
   ]
  },
  {
   "cell_type": "code",
   "execution_count": 91,
   "metadata": {},
   "outputs": [
    {
     "name": "stdout",
     "output_type": "stream",
     "text": [
      "6.81037201687\n",
      "2.93818476794\n"
     ]
    }
   ],
   "source": [
    "print (np.mean(rayleighvar))\n",
    "print (np.std(rayleighvar))\n",
    "\n",
    "#The mean and sd of this data both seem useful."
   ]
  },
  {
   "cell_type": "code",
   "execution_count": 60,
   "metadata": {},
   "outputs": [],
   "source": [
    "logvar = np.random.logistic(1,5, 100)"
   ]
  },
  {
   "cell_type": "code",
   "execution_count": 98,
   "metadata": {},
   "outputs": [
    {
     "data": {
      "image/png": "[encoded data removed]",
      "text/plain": [
       "<matplotlib.figure.Figure at 0x1ea24046a0>"
      ]
     },
     "metadata": {},
     "output_type": "display_data"
    }
   ],
   "source": [
    "plt.hist(logvar)\n",
    "plt.axvline(logvar.mean(), color='b', linestyle='solid', linewidth=2)\n",
    "plt.axvline(logvar.mean() + logvar.std(), color='b', linestyle='dashed', linewidth=2)\n",
    "plt.axvline(logvar.mean()-logvar.std(), color='b', linestyle='dashed', linewidth=2) \n",
    "plt.show()"
   ]
  },
  {
   "cell_type": "code",
   "execution_count": 97,
   "metadata": {},
   "outputs": [
    {
     "name": "stdout",
     "output_type": "stream",
     "text": [
      "1.82861006213\n",
      "10.1970597864\n"
     ]
    }
   ],
   "source": [
    "print (np.mean(logvar))\n",
    "print (np.std(logvar))\n",
    "#The mean and sd of this data both seem useful."
   ]
  },
  {
   "cell_type": "code",
   "execution_count": 102,
   "metadata": {},
   "outputs": [
    {
     "data": {
      "image/png": "[encoded data removed]",
      "text/plain": [
       "<matplotlib.figure.Figure at 0x1ea2461a58>"
      ]
     },
     "metadata": {},
     "output_type": "display_data"
    }
   ],
   "source": [
    "laplacevar = np.random.laplace(1, 5, 100)\n",
    "plt.hist(laplacevar)\n",
    "plt.axvline(laplacevar.mean(), color='b', linestyle='solid', linewidth=2)\n",
    "plt.axvline(laplacevar.mean() + laplacevar.std(), color='b', linestyle='dashed', linewidth=2)\n",
    "plt.axvline(laplacevar.mean()-laplacevar.std(), color='b', linestyle='dashed', linewidth=2) \n",
    "plt.show()"
   ]
  },
  {
   "cell_type": "code",
   "execution_count": 103,
   "metadata": {},
   "outputs": [
    {
     "name": "stdout",
     "output_type": "stream",
     "text": [
      "1.68426571877\n",
      "8.18730922626\n"
     ]
    }
   ],
   "source": [
    "print (np.mean(laplacevar))\n",
    "print (np.std(laplacevar))\n",
    "#The mean and sd of this data both seem useful."
   ]
  },
  {
   "cell_type": "code",
   "execution_count": 112,
   "metadata": {},
   "outputs": [
    {
     "data": {
      "image/png": "[encoded data removed]",
      "text/plain": [
       "<matplotlib.figure.Figure at 0x1ea26ac588>"
      ]
     },
     "metadata": {},
     "output_type": "display_data"
    }
   ],
   "source": [
    "gumbelvar = np.random.gumbel(1, 5, 100)\n",
    "plt.hist(gumbelvar)\n",
    "plt.axvline(gumbelvar.mean(), color='b', linestyle='solid', linewidth=2)\n",
    "plt.axvline(gumbelvar.mean() + gumbelvar.std(), color='b', linestyle='dashed', linewidth=2)\n",
    "plt.axvline(gumbelvar.mean()-gumbelvar.std(), color='b', linestyle='dashed', linewidth=2) \n",
    "plt.show()"
   ]
  },
  {
   "cell_type": "code",
   "execution_count": 113,
   "metadata": {},
   "outputs": [
    {
     "name": "stdout",
     "output_type": "stream",
     "text": [
      "3.70584639692\n",
      "6.49722307679\n"
     ]
    }
   ],
   "source": [
    "print (np.mean(gumbelvar))\n",
    "print (np.std(gumbelvar))\n",
    "# This distribution seems to have many outliers  passed the second dashed line skewing the mean a bit higher than expected."
   ]
  },
  {
   "cell_type": "code",
   "execution_count": 122,
   "metadata": {},
   "outputs": [
    {
     "data": {
      "image/png": "[encoded data removed]",
      "text/plain": [
       "<matplotlib.figure.Figure at 0x1ea25b5358>"
      ]
     },
     "metadata": {},
     "output_type": "display_data"
    }
   ],
   "source": [
    "stand_cauch= np.random.standard_cauchy(100)\n",
    "plt.hist(stand_cauch)\n",
    "plt.axvline(stand_cauch.mean(), color='b', linestyle='solid', linewidth=2)\n",
    "plt.axvline(stand_cauch.mean() + stand_cauch.std(), color='b', linestyle='dashed', linewidth=2)\n",
    "plt.axvline(stand_cauch.mean()-stand_cauch.std(), color='b', linestyle='dashed', linewidth=2) \n",
    "plt.show()"
   ]
  },
  {
   "cell_type": "code",
   "execution_count": 123,
   "metadata": {},
   "outputs": [
    {
     "name": "stdout",
     "output_type": "stream",
     "text": [
      "0.633580462475\n",
      "10.9288173645\n"
     ]
    }
   ],
   "source": [
    "print (np.mean(stand_cauch))\n",
    "print (np.std(stand_cauch))\n",
    "#Almost all the values fall between  one standard deviation centering around a mean which works its way towards 0"
   ]
  },
  {
   "cell_type": "code",
   "execution_count": 75,
   "metadata": {
    "collapsed": true
   },
   "outputs": [],
   "source": [
    "norm1= np.random.normal(5,.5,100)\n",
    "norm2= np.random.normal(10,1,100)"
   ]
  },
  {
   "cell_type": "code",
   "execution_count": 76,
   "metadata": {},
   "outputs": [],
   "source": [
    "norm3 = norm1 + norm2"
   ]
  },
  {
   "cell_type": "code",
   "execution_count": 77,
   "metadata": {},
   "outputs": [
    {
     "data": {
      "image/png": "[encoded data removed]",
      "text/plain": [
       "<matplotlib.figure.Figure at 0x1ea26ac940>"
      ]
     },
     "metadata": {},
     "output_type": "display_data"
    }
   ],
   "source": [
    "plt.hist(norm3)\n",
    "plt.axvline(norm3.mean(), color='b', linestyle='solid', linewidth=2)\n",
    "plt.axvline(norm3.mean() + norm3.std(), color='b', linestyle='dashed', linewidth=2)\n",
    "plt.axvline(norm3.mean()-norm3.std(), color='b', linestyle='dashed', linewidth=2) \n",
    "plt.show()"
   ]
  },
  {
   "cell_type": "code",
   "execution_count": 78,
   "metadata": {},
   "outputs": [
    {
     "name": "stdout",
     "output_type": "stream",
     "text": [
      "14.906764482\n",
      "1.01566655683\n"
     ]
    }
   ],
   "source": [
    "print (np.mean(norm3))\n",
    "print (np.std(norm3))\n",
    "#the New mean for the norm3 seems to be the sum of norm1 and norm2. SD looks to be 1, the higher of the two added distributions."
   ]
  },
  {
   "cell_type": "code",
   "execution_count": null,
   "metadata": {
    "collapsed": true
   },
   "outputs": [],
   "source": []
  }
 ],
 "metadata": {
  "kernelspec": {
   "display_name": "Python 3",
   "language": "python",
   "name": "python3"
  }
 },
 "nbformat": 4,
 "nbformat_minor": 2
}
